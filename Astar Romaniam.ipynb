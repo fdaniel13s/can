{
 "cells": [
  {
   "cell_type": "code",
   "execution_count": 7,
   "id": "d76303f8",
   "metadata": {},
   "outputs": [
    {
     "name": "stdout",
     "output_type": "stream",
     "text": [
      "{'Arad': 0, 'Bucharest': 1, 'Craiova': 2, 'Dobreta': 3, 'Eforie': 4, 'Fagaras': 5, 'Giurgiu': 6, 'Hirsova': 7, 'Iasi': 8, 'Lugoj': 9, 'Mehadia': 10, 'Neamt': 11, 'Oradea': 12, 'Pitesti': 13, 'Rimnicu_Vilcea': 14, 'Sibiu': 15, 'Timisoara': 16, 'Urziceni': 17, 'Vaslui': 18, 'Zerind': 19}\n",
      "['Arad', 'Bucharest', 'Craiova', 'Dobreta', 'Eforie', 'Fagaras', 'Giurgiu', 'Hirsova', 'Iasi', 'Lugoj', 'Mehadia', 'Neamt', 'Oradea', 'Pitesti', 'Rimnicu_Vilcea', 'Sibiu', 'Timisoara', 'Urziceni', 'Vaslui', 'Zerind']\n",
      "[(29, 192), (268, 55), (163, 22), (91, 32), (420, 28), (208, 157), (264, 8), (396, 74), (347, 204), (91, 98), (93, 65), (290, 229), (62, 258), (220, 88), (147, 124), (126, 164), (32, 124), (333, 74), (376, 153), (44, 225)]\n",
      "Arad 366\n",
      "Bucharest 0\n",
      "Craiova 160\n",
      "Dobreta 242\n",
      "Eforie 161\n",
      "Fagaras 178\n",
      "Giurgiu 77\n",
      "Hirsova 151\n",
      "Iasi 226\n",
      "Lugoj 244\n",
      "Mehadia 241\n",
      "Neamt 234\n",
      "Oradea 380\n",
      "Pitesti 98\n",
      "Rimnicu_Vilcea 193\n",
      "Sibiu 253\n",
      "Timisoara 329\n",
      "Urziceni 80\n",
      "Vaslui 199\n",
      "Zerind 374\n"
     ]
    }
   ],
   "source": [
    "with open('cities.txt') as f:\n",
    "    city2idx = {}\n",
    "    cities = []\n",
    "    coord = []\n",
    "    i = 0\n",
    "    for line in f:\n",
    "        city, x, y = line.strip().split()\n",
    "        city2idx[city] = i\n",
    "        cities.append(city)\n",
    "        coord.append((int(x),int(y)))\n",
    "        i += 1\n",
    "        \n",
    "    print(city2idx)\n",
    "    print(cities)\n",
    "    print(coord)\n",
    "    \n",
    "with open('heuristics.txt') as f:\n",
    "    heuristics = [0]*i\n",
    "    for line in f: \n",
    "        city, hi = line.strip().split()\n",
    "        heuristics[city2idx[city]] = int(hi)\n",
    "        \n",
    "        \n",
    "with open('citiesGraph.txt') as f:\n",
    "    G = [[] for _ in range ]\n",
    "        \n",
    "for city, h in zip(cities,heuristics):\n",
    "    print( city, h)"
   ]
  },
  {
   "cell_type": "code",
   "execution_count": null,
   "id": "a3edf479",
   "metadata": {},
   "outputs": [],
   "source": []
  }
 ],
 "metadata": {
  "kernelspec": {
   "display_name": "Python 3 (ipykernel)",
   "language": "python",
   "name": "python3"
  },
  "language_info": {
   "codemirror_mode": {
    "name": "ipython",
    "version": 3
   },
   "file_extension": ".py",
   "mimetype": "text/x-python",
   "name": "python",
   "nbconvert_exporter": "python",
   "pygments_lexer": "ipython3",
   "version": "3.11.5"
  }
 },
 "nbformat": 4,
 "nbformat_minor": 5
}
