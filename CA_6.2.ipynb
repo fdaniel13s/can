{
 "cells": [
  {
   "cell_type": "code",
   "execution_count": 6,
   "id": "902a3abe",
   "metadata": {},
   "outputs": [
    {
     "ename": "ModuleNotFoundError",
     "evalue": "No module named 'graphviz'",
     "output_type": "error",
     "traceback": [
      "\u001b[1;31m---------------------------------------------------------------------------\u001b[0m",
      "\u001b[1;31mModuleNotFoundError\u001b[0m                       Traceback (most recent call last)",
      "Cell \u001b[1;32mIn[6], line 3\u001b[0m\n\u001b[0;32m      1\u001b[0m \u001b[38;5;28;01mimport\u001b[39;00m \u001b[38;5;21;01mheapq\u001b[39;00m \u001b[38;5;28;01mas\u001b[39;00m \u001b[38;5;21;01mhq\u001b[39;00m\n\u001b[0;32m      2\u001b[0m \u001b[38;5;28;01mimport\u001b[39;00m \u001b[38;5;21;01mnumpy\u001b[39;00m \u001b[38;5;28;01mas\u001b[39;00m \u001b[38;5;21;01mnp\u001b[39;00m\n\u001b[1;32m----> 3\u001b[0m \u001b[38;5;28;01mimport\u001b[39;00m \u001b[38;5;21;01mgraphviz\u001b[39;00m \u001b[38;5;28;01mas\u001b[39;00m \u001b[38;5;21;01mgv\u001b[39;00m\n\u001b[0;32m      4\u001b[0m \u001b[38;5;28;01mimport\u001b[39;00m \u001b[38;5;21;01mmath\u001b[39;00m\n",
      "\u001b[1;31mModuleNotFoundError\u001b[0m: No module named 'graphviz'"
     ]
    }
   ],
   "source": [
    "import heapq as hq\n",
    "import numpy as np\n",
    "import graphviz as gv\n",
    "import math"
   ]
  },
  {
   "cell_type": "code",
   "execution_count": null,
   "id": "71da24a5",
   "metadata": {},
   "outputs": [],
   "source": []
  },
  {
   "cell_type": "code",
   "execution_count": null,
   "id": "7e93a59e",
   "metadata": {},
   "outputs": [],
   "source": [
    "def dijkstra(G, s, target):\n",
    "  n = len(G)\n",
    "  visited = [False]*n\n",
    "  path = [-1]*n\n",
    "  g = [math.inf]*n\n",
    "  q = []\n",
    "  f = lambda u: g[u] + h[u]\n",
    "  heapq.heappush(q, (f(f(s),s)))\n",
    "  g[s] \n",
    "  cost[s] = 0\n",
    "  pqueue = [(0, s)]\n",
    "  while pqueue:\n",
    "    g, u = hq.heappop(pqueue)\n",
    "    if not visited[u]:\n",
    "      visited[u] = True\n",
    "      for v, w in G[u]:\n",
    "        if not visited[v]:\n",
    "          f = g + w\n",
    "          if f < cost[v]:\n",
    "            cost[v] = f\n",
    "            path[v] = u\n",
    "            hq.heappush(pqueue, (f, v))\n",
    "\n",
    "  return path, cost"
   ]
  }
 ],
 "metadata": {
  "kernelspec": {
   "display_name": "Python 3 (ipykernel)",
   "language": "python",
   "name": "python3"
  },
  "language_info": {
   "codemirror_mode": {
    "name": "ipython",
    "version": 3
   },
   "file_extension": ".py",
   "mimetype": "text/x-python",
   "name": "python",
   "nbconvert_exporter": "python",
   "pygments_lexer": "ipython3",
   "version": "3.11.5"
  }
 },
 "nbformat": 4,
 "nbformat_minor": 5
}
